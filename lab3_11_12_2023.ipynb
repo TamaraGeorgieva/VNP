{
  "nbformat": 4,
  "nbformat_minor": 0,
  "metadata": {
    "colab": {
      "provenance": []
    },
    "kernelspec": {
      "name": "python3",
      "display_name": "Python 3"
    },
    "language_info": {
      "name": "python"
    }
  },
  "cells": [
    {
      "cell_type": "markdown",
      "source": [
        "\n",
        "###Во оваа лабораторика вежба фокусот е на time series предвидувања, односно предвидување на Close (BTC) вредноста во даденото податочно множество за Bitcoin. Ваша задача е со помош на decision tree и boosting методи да ја предвидите бараната вредност земајќи ги во предвид релевантните колони од податочното множество, но дополнително и вредноста на Close (BTC) во изминатите четири дена, бидејќи вредноста на Bitcoin-от во даден момент зависи од нејзината вредност во изминатите денови.\n",
        "\n",
        "Hint : внимавајте како ќе го поделите множеството на train и test бидејќи се работи податоци во временска серија"
      ],
      "metadata": {
        "id": "yJhqgqZieZx_"
      }
    },
    {
      "cell_type": "markdown",
      "source": [
        "##Симнете го податочното множество"
      ],
      "metadata": {
        "id": "mVtHQy3FjJVl"
      }
    },
    {
      "cell_type": "code",
      "source": [
        "import pandas as pd\n",
        "from keras.models import Sequential\n",
        "from keras.layers import LSTM, Dense, Dropout\n",
        "import keras\n",
        "from sklearn.model_selection import train_test_split\n",
        "from sklearn.preprocessing import MinMaxScaler\n",
        "import matplotlib.pyplot as plt\n",
        "from sklearn.metrics import mean_squared_error, mean_absolute_error, r2_score\n",
        "import numpy as np\n",
        "from xgboost import XGBRegressor"
      ],
      "metadata": {
        "id": "xla7DDOEcENL"
      },
      "execution_count": null,
      "outputs": []
    },
    {
      "cell_type": "code",
      "source": [
        "!pip install gdown==v4.6.3"
      ],
      "metadata": {
        "id": "JKnIwCGDb4Nq"
      },
      "execution_count": null,
      "outputs": []
    },
    {
      "cell_type": "code",
      "execution_count": null,
      "metadata": {
        "id": "aQ2RisnSifot",
        "colab": {
          "base_uri": "https://localhost:8080/"
        },
        "outputId": "3f773e8a-c68e-41c0-ec95-62815473d707"
      },
      "outputs": [
        {
          "output_type": "stream",
          "name": "stdout",
          "text": [
            "Downloading...\n",
            "From: https://drive.google.com/uc?id=14YlgjT_M8kDrvDKEv864fs7ZyI1lMErO\n",
            "To: /content/crypto_data.csv\n",
            "\r  0% 0.00/90.0k [00:00<?, ?B/s]\r100% 90.0k/90.0k [00:00<00:00, 113MB/s]\n"
          ]
        }
      ],
      "source": [
        "!gdown 14YlgjT_M8kDrvDKEv864fs7ZyI1lMErO"
      ]
    },
    {
      "cell_type": "markdown",
      "source": [
        "##Направете претпроцесирање на податоците"
      ],
      "metadata": {
        "id": "Gcydr5cgjCh1"
      }
    },
    {
      "cell_type": "code",
      "source": [
        "df = pd.read_csv('crypto_data.csv')"
      ],
      "metadata": {
        "id": "IEQz10PLi0tu"
      },
      "execution_count": null,
      "outputs": []
    },
    {
      "cell_type": "code",
      "source": [
        "df.head()"
      ],
      "metadata": {
        "colab": {
          "base_uri": "https://localhost:8080/",
          "height": 238
        },
        "id": "tGmb-xrTcRS_",
        "outputId": "55e597ee-95ca-43f9-dc2f-b9e95427785c"
      },
      "execution_count": null,
      "outputs": [
        {
          "output_type": "execute_result",
          "data": {
            "text/plain": [
              "          Close (BNB)   Close (BTC)  Close (USDT)  Close (ETH)  \\\n",
              "Date                                                             \n",
              "01-01-18     8.414610  13657.200200      1.007280   772.640991   \n",
              "01-01-19     6.075273   3843.520020      1.018335   140.819412   \n",
              "01-01-20    13.689083   7200.174316      0.999836   130.802002   \n",
              "01-01-21    37.905010  29374.152340      1.001916   730.367554   \n",
              "01-01-22   527.352722  47686.812500      1.000500  3769.697021   \n",
              "\n",
              "          Close(BTC)_prev_1_day  Close(BTC)_prev_2_day  Close(BTC)_prev_3_day  \\\n",
              "Date                                                                            \n",
              "01-01-18                    NaN                    NaN                    NaN   \n",
              "01-01-19           13657.200200                    NaN                    NaN   \n",
              "01-01-20            3843.520020           13657.200200                    NaN   \n",
              "01-01-21            7200.174316            3843.520020            13657.20020   \n",
              "01-01-22           29374.152340            7200.174316             3843.52002   \n",
              "\n",
              "          Close(BTC)_prev_4_day  \n",
              "Date                             \n",
              "01-01-18                    NaN  \n",
              "01-01-19                    NaN  \n",
              "01-01-20                    NaN  \n",
              "01-01-21                    NaN  \n",
              "01-01-22             13657.2002  "
            ],
            "text/html": [
              "\n",
              "  <div id=\"df-354b69c4-1ca4-4bed-8e26-158ab38702bc\" class=\"colab-df-container\">\n",
              "    <div>\n",
              "<style scoped>\n",
              "    .dataframe tbody tr th:only-of-type {\n",
              "        vertical-align: middle;\n",
              "    }\n",
              "\n",
              "    .dataframe tbody tr th {\n",
              "        vertical-align: top;\n",
              "    }\n",
              "\n",
              "    .dataframe thead th {\n",
              "        text-align: right;\n",
              "    }\n",
              "</style>\n",
              "<table border=\"1\" class=\"dataframe\">\n",
              "  <thead>\n",
              "    <tr style=\"text-align: right;\">\n",
              "      <th></th>\n",
              "      <th>Close (BNB)</th>\n",
              "      <th>Close (BTC)</th>\n",
              "      <th>Close (USDT)</th>\n",
              "      <th>Close (ETH)</th>\n",
              "      <th>Close(BTC)_prev_1_day</th>\n",
              "      <th>Close(BTC)_prev_2_day</th>\n",
              "      <th>Close(BTC)_prev_3_day</th>\n",
              "      <th>Close(BTC)_prev_4_day</th>\n",
              "    </tr>\n",
              "    <tr>\n",
              "      <th>Date</th>\n",
              "      <th></th>\n",
              "      <th></th>\n",
              "      <th></th>\n",
              "      <th></th>\n",
              "      <th></th>\n",
              "      <th></th>\n",
              "      <th></th>\n",
              "      <th></th>\n",
              "    </tr>\n",
              "  </thead>\n",
              "  <tbody>\n",
              "    <tr>\n",
              "      <th>01-01-18</th>\n",
              "      <td>8.414610</td>\n",
              "      <td>13657.200200</td>\n",
              "      <td>1.007280</td>\n",
              "      <td>772.640991</td>\n",
              "      <td>NaN</td>\n",
              "      <td>NaN</td>\n",
              "      <td>NaN</td>\n",
              "      <td>NaN</td>\n",
              "    </tr>\n",
              "    <tr>\n",
              "      <th>01-01-19</th>\n",
              "      <td>6.075273</td>\n",
              "      <td>3843.520020</td>\n",
              "      <td>1.018335</td>\n",
              "      <td>140.819412</td>\n",
              "      <td>13657.200200</td>\n",
              "      <td>NaN</td>\n",
              "      <td>NaN</td>\n",
              "      <td>NaN</td>\n",
              "    </tr>\n",
              "    <tr>\n",
              "      <th>01-01-20</th>\n",
              "      <td>13.689083</td>\n",
              "      <td>7200.174316</td>\n",
              "      <td>0.999836</td>\n",
              "      <td>130.802002</td>\n",
              "      <td>3843.520020</td>\n",
              "      <td>13657.200200</td>\n",
              "      <td>NaN</td>\n",
              "      <td>NaN</td>\n",
              "    </tr>\n",
              "    <tr>\n",
              "      <th>01-01-21</th>\n",
              "      <td>37.905010</td>\n",
              "      <td>29374.152340</td>\n",
              "      <td>1.001916</td>\n",
              "      <td>730.367554</td>\n",
              "      <td>7200.174316</td>\n",
              "      <td>3843.520020</td>\n",
              "      <td>13657.20020</td>\n",
              "      <td>NaN</td>\n",
              "    </tr>\n",
              "    <tr>\n",
              "      <th>01-01-22</th>\n",
              "      <td>527.352722</td>\n",
              "      <td>47686.812500</td>\n",
              "      <td>1.000500</td>\n",
              "      <td>3769.697021</td>\n",
              "      <td>29374.152340</td>\n",
              "      <td>7200.174316</td>\n",
              "      <td>3843.52002</td>\n",
              "      <td>13657.2002</td>\n",
              "    </tr>\n",
              "  </tbody>\n",
              "</table>\n",
              "</div>\n",
              "    <div class=\"colab-df-buttons\">\n",
              "\n",
              "  <div class=\"colab-df-container\">\n",
              "    <button class=\"colab-df-convert\" onclick=\"convertToInteractive('df-354b69c4-1ca4-4bed-8e26-158ab38702bc')\"\n",
              "            title=\"Convert this dataframe to an interactive table.\"\n",
              "            style=\"display:none;\">\n",
              "\n",
              "  <svg xmlns=\"http://www.w3.org/2000/svg\" height=\"24px\" viewBox=\"0 -960 960 960\">\n",
              "    <path d=\"M120-120v-720h720v720H120Zm60-500h600v-160H180v160Zm220 220h160v-160H400v160Zm0 220h160v-160H400v160ZM180-400h160v-160H180v160Zm440 0h160v-160H620v160ZM180-180h160v-160H180v160Zm440 0h160v-160H620v160Z\"/>\n",
              "  </svg>\n",
              "    </button>\n",
              "\n",
              "  <style>\n",
              "    .colab-df-container {\n",
              "      display:flex;\n",
              "      gap: 12px;\n",
              "    }\n",
              "\n",
              "    .colab-df-convert {\n",
              "      background-color: #E8F0FE;\n",
              "      border: none;\n",
              "      border-radius: 50%;\n",
              "      cursor: pointer;\n",
              "      display: none;\n",
              "      fill: #1967D2;\n",
              "      height: 32px;\n",
              "      padding: 0 0 0 0;\n",
              "      width: 32px;\n",
              "    }\n",
              "\n",
              "    .colab-df-convert:hover {\n",
              "      background-color: #E2EBFA;\n",
              "      box-shadow: 0px 1px 2px rgba(60, 64, 67, 0.3), 0px 1px 3px 1px rgba(60, 64, 67, 0.15);\n",
              "      fill: #174EA6;\n",
              "    }\n",
              "\n",
              "    .colab-df-buttons div {\n",
              "      margin-bottom: 4px;\n",
              "    }\n",
              "\n",
              "    [theme=dark] .colab-df-convert {\n",
              "      background-color: #3B4455;\n",
              "      fill: #D2E3FC;\n",
              "    }\n",
              "\n",
              "    [theme=dark] .colab-df-convert:hover {\n",
              "      background-color: #434B5C;\n",
              "      box-shadow: 0px 1px 3px 1px rgba(0, 0, 0, 0.15);\n",
              "      filter: drop-shadow(0px 1px 2px rgba(0, 0, 0, 0.3));\n",
              "      fill: #FFFFFF;\n",
              "    }\n",
              "  </style>\n",
              "\n",
              "    <script>\n",
              "      const buttonEl =\n",
              "        document.querySelector('#df-354b69c4-1ca4-4bed-8e26-158ab38702bc button.colab-df-convert');\n",
              "      buttonEl.style.display =\n",
              "        google.colab.kernel.accessAllowed ? 'block' : 'none';\n",
              "\n",
              "      async function convertToInteractive(key) {\n",
              "        const element = document.querySelector('#df-354b69c4-1ca4-4bed-8e26-158ab38702bc');\n",
              "        const dataTable =\n",
              "          await google.colab.kernel.invokeFunction('convertToInteractive',\n",
              "                                                    [key], {});\n",
              "        if (!dataTable) return;\n",
              "\n",
              "        const docLinkHtml = 'Like what you see? Visit the ' +\n",
              "          '<a target=\"_blank\" href=https://colab.research.google.com/notebooks/data_table.ipynb>data table notebook</a>'\n",
              "          + ' to learn more about interactive tables.';\n",
              "        element.innerHTML = '';\n",
              "        dataTable['output_type'] = 'display_data';\n",
              "        await google.colab.output.renderOutput(dataTable, element);\n",
              "        const docLink = document.createElement('div');\n",
              "        docLink.innerHTML = docLinkHtml;\n",
              "        element.appendChild(docLink);\n",
              "      }\n",
              "    </script>\n",
              "  </div>\n",
              "\n",
              "\n",
              "<div id=\"df-13fa0d39-4201-41ae-922f-461f06629b05\">\n",
              "  <button class=\"colab-df-quickchart\" onclick=\"quickchart('df-13fa0d39-4201-41ae-922f-461f06629b05')\"\n",
              "            title=\"Suggest charts\"\n",
              "            style=\"display:none;\">\n",
              "\n",
              "<svg xmlns=\"http://www.w3.org/2000/svg\" height=\"24px\"viewBox=\"0 0 24 24\"\n",
              "     width=\"24px\">\n",
              "    <g>\n",
              "        <path d=\"M19 3H5c-1.1 0-2 .9-2 2v14c0 1.1.9 2 2 2h14c1.1 0 2-.9 2-2V5c0-1.1-.9-2-2-2zM9 17H7v-7h2v7zm4 0h-2V7h2v10zm4 0h-2v-4h2v4z\"/>\n",
              "    </g>\n",
              "</svg>\n",
              "  </button>\n",
              "\n",
              "<style>\n",
              "  .colab-df-quickchart {\n",
              "      --bg-color: #E8F0FE;\n",
              "      --fill-color: #1967D2;\n",
              "      --hover-bg-color: #E2EBFA;\n",
              "      --hover-fill-color: #174EA6;\n",
              "      --disabled-fill-color: #AAA;\n",
              "      --disabled-bg-color: #DDD;\n",
              "  }\n",
              "\n",
              "  [theme=dark] .colab-df-quickchart {\n",
              "      --bg-color: #3B4455;\n",
              "      --fill-color: #D2E3FC;\n",
              "      --hover-bg-color: #434B5C;\n",
              "      --hover-fill-color: #FFFFFF;\n",
              "      --disabled-bg-color: #3B4455;\n",
              "      --disabled-fill-color: #666;\n",
              "  }\n",
              "\n",
              "  .colab-df-quickchart {\n",
              "    background-color: var(--bg-color);\n",
              "    border: none;\n",
              "    border-radius: 50%;\n",
              "    cursor: pointer;\n",
              "    display: none;\n",
              "    fill: var(--fill-color);\n",
              "    height: 32px;\n",
              "    padding: 0;\n",
              "    width: 32px;\n",
              "  }\n",
              "\n",
              "  .colab-df-quickchart:hover {\n",
              "    background-color: var(--hover-bg-color);\n",
              "    box-shadow: 0 1px 2px rgba(60, 64, 67, 0.3), 0 1px 3px 1px rgba(60, 64, 67, 0.15);\n",
              "    fill: var(--button-hover-fill-color);\n",
              "  }\n",
              "\n",
              "  .colab-df-quickchart-complete:disabled,\n",
              "  .colab-df-quickchart-complete:disabled:hover {\n",
              "    background-color: var(--disabled-bg-color);\n",
              "    fill: var(--disabled-fill-color);\n",
              "    box-shadow: none;\n",
              "  }\n",
              "\n",
              "  .colab-df-spinner {\n",
              "    border: 2px solid var(--fill-color);\n",
              "    border-color: transparent;\n",
              "    border-bottom-color: var(--fill-color);\n",
              "    animation:\n",
              "      spin 1s steps(1) infinite;\n",
              "  }\n",
              "\n",
              "  @keyframes spin {\n",
              "    0% {\n",
              "      border-color: transparent;\n",
              "      border-bottom-color: var(--fill-color);\n",
              "      border-left-color: var(--fill-color);\n",
              "    }\n",
              "    20% {\n",
              "      border-color: transparent;\n",
              "      border-left-color: var(--fill-color);\n",
              "      border-top-color: var(--fill-color);\n",
              "    }\n",
              "    30% {\n",
              "      border-color: transparent;\n",
              "      border-left-color: var(--fill-color);\n",
              "      border-top-color: var(--fill-color);\n",
              "      border-right-color: var(--fill-color);\n",
              "    }\n",
              "    40% {\n",
              "      border-color: transparent;\n",
              "      border-right-color: var(--fill-color);\n",
              "      border-top-color: var(--fill-color);\n",
              "    }\n",
              "    60% {\n",
              "      border-color: transparent;\n",
              "      border-right-color: var(--fill-color);\n",
              "    }\n",
              "    80% {\n",
              "      border-color: transparent;\n",
              "      border-right-color: var(--fill-color);\n",
              "      border-bottom-color: var(--fill-color);\n",
              "    }\n",
              "    90% {\n",
              "      border-color: transparent;\n",
              "      border-bottom-color: var(--fill-color);\n",
              "    }\n",
              "  }\n",
              "</style>\n",
              "\n",
              "  <script>\n",
              "    async function quickchart(key) {\n",
              "      const quickchartButtonEl =\n",
              "        document.querySelector('#' + key + ' button');\n",
              "      quickchartButtonEl.disabled = true;  // To prevent multiple clicks.\n",
              "      quickchartButtonEl.classList.add('colab-df-spinner');\n",
              "      try {\n",
              "        const charts = await google.colab.kernel.invokeFunction(\n",
              "            'suggestCharts', [key], {});\n",
              "      } catch (error) {\n",
              "        console.error('Error during call to suggestCharts:', error);\n",
              "      }\n",
              "      quickchartButtonEl.classList.remove('colab-df-spinner');\n",
              "      quickchartButtonEl.classList.add('colab-df-quickchart-complete');\n",
              "    }\n",
              "    (() => {\n",
              "      let quickchartButtonEl =\n",
              "        document.querySelector('#df-13fa0d39-4201-41ae-922f-461f06629b05 button');\n",
              "      quickchartButtonEl.style.display =\n",
              "        google.colab.kernel.accessAllowed ? 'block' : 'none';\n",
              "    })();\n",
              "  </script>\n",
              "</div>\n",
              "    </div>\n",
              "  </div>\n"
            ]
          },
          "metadata": {},
          "execution_count": 19
        }
      ]
    },
    {
      "cell_type": "code",
      "source": [
        "df.isnull().sum()"
      ],
      "metadata": {
        "id": "cdrT5NKGc41Y"
      },
      "execution_count": null,
      "outputs": []
    },
    {
      "cell_type": "code",
      "source": [
        "df = df.set_index('Date')\n",
        "df = df.sort_index()"
      ],
      "metadata": {
        "id": "hYIbllZacw2u"
      },
      "execution_count": null,
      "outputs": []
    },
    {
      "cell_type": "code",
      "source": [
        "lag = 4\n",
        "for i in range(1, lag+1):\n",
        "  df[f'Close(BTC)_prev_{i}_day'] = df[\"Close (BTC)\"].shift(i)"
      ],
      "metadata": {
        "id": "3JGFHwnkc-nG"
      },
      "execution_count": null,
      "outputs": []
    },
    {
      "cell_type": "code",
      "source": [
        "df = df.dropna(axis=0)"
      ],
      "metadata": {
        "id": "5azOG2s_de_l"
      },
      "execution_count": null,
      "outputs": []
    },
    {
      "cell_type": "markdown",
      "source": [
        "##Поделето го на тренирачко и тестирачко множество во сооднос 80:20"
      ],
      "metadata": {
        "id": "dpj3wxnGjMfL"
      }
    },
    {
      "cell_type": "code",
      "source": [
        "X = df.copy()\n",
        "X = X.drop(columns=[\"Close (BTC)\", \"Close (BNB)\", \"Close (USDT)\", \"Close (ETH)\"])"
      ],
      "metadata": {
        "id": "XdP3cGHbdnML"
      },
      "execution_count": null,
      "outputs": []
    },
    {
      "cell_type": "code",
      "source": [
        "Y = df[\"Close (BTC)\"]"
      ],
      "metadata": {
        "id": "wGb3JIXeeImp"
      },
      "execution_count": null,
      "outputs": []
    },
    {
      "cell_type": "code",
      "source": [
        "X_train, X_test, Y_train, Y_test = train_test_split(X, Y, test_size=0.2, shuffle=False)"
      ],
      "metadata": {
        "id": "WFzmPO7UjTvW"
      },
      "execution_count": null,
      "outputs": []
    },
    {
      "cell_type": "markdown",
      "source": [
        "##Искористете соодветен Boosting модел за проблемот и тестирајте го моделот на тестирачкото множество"
      ],
      "metadata": {
        "id": "iPATbdL8jUML"
      }
    },
    {
      "cell_type": "code",
      "source": [
        "xgb = XGBRegressor(n_estimators=10, max_depth=5)"
      ],
      "metadata": {
        "id": "JJlhkj5HjMHv"
      },
      "execution_count": null,
      "outputs": []
    },
    {
      "cell_type": "code",
      "source": [
        "xgb.fit(X_train, Y_train)"
      ],
      "metadata": {
        "id": "lRuw-TuKegeo"
      },
      "execution_count": null,
      "outputs": []
    },
    {
      "cell_type": "code",
      "source": [
        "preds = xgb.predict(X_test)"
      ],
      "metadata": {
        "id": "Ib3swmQueqpx"
      },
      "execution_count": null,
      "outputs": []
    },
    {
      "cell_type": "code",
      "source": [
        "mean_squared_error(preds, Y_test), mean_absolute_error(preds, Y_test), r2_score(preds, Y_test)"
      ],
      "metadata": {
        "id": "wYsF1kTwey1y"
      },
      "execution_count": null,
      "outputs": []
    },
    {
      "cell_type": "markdown",
      "source": [
        "##Искористете соодветен Decision Tree модел за проблемот и тестирајте го моделот на тестирачкото множество"
      ],
      "metadata": {
        "id": "KQW68mNwjZ2_"
      }
    },
    {
      "cell_type": "code",
      "source": [],
      "metadata": {
        "id": "_d1VDiEbjY99"
      },
      "execution_count": null,
      "outputs": []
    },
    {
      "cell_type": "markdown",
      "source": [
        "##Споредете ги резултатите добиени од двата модели со соодветни метрики"
      ],
      "metadata": {
        "id": "rQjPz0sTjfUO"
      }
    },
    {
      "cell_type": "code",
      "source": [],
      "metadata": {
        "id": "tiU2BGrvjeYx"
      },
      "execution_count": null,
      "outputs": []
    },
    {
      "cell_type": "markdown",
      "source": [
        "##Bonus Task: Направете визуелизации кои го илустрираат процесот на предвидување на двата горенавередени модели"
      ],
      "metadata": {
        "id": "FKABncwxdzxo"
      }
    },
    {
      "cell_type": "code",
      "source": [],
      "metadata": {
        "id": "u0fg-z1rdxOz"
      },
      "execution_count": null,
      "outputs": []
    }
  ]
}